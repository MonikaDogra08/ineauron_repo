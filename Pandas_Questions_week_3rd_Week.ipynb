{
 "cells": [
  {
   "cell_type": "markdown",
   "metadata": {},
   "source": [
    "## Assignment on  Python pandas.\n",
    "### Submitted by :Monika Dogra\n",
    "### Batch : Mon-Fri (7 jan 2021)"
   ]
  },
  {
   "cell_type": "code",
   "execution_count": 1,
   "metadata": {
    "ExecuteTime": {
     "end_time": "2021-02-23T07:46:47.153700Z",
     "start_time": "2021-02-23T07:46:45.964360Z"
    }
   },
   "outputs": [
    {
     "name": "stdout",
     "output_type": "stream",
     "text": [
      "0    10\n",
      "1    20\n",
      "2    30\n",
      "3    40\n",
      "4    50\n",
      "dtype: int64\n"
     ]
    }
   ],
   "source": [
    "# Write a Python program to create and display a one-\n",
    "# dimensional array-like object containing an array of data using Pandas module.\n",
    " \n",
    "import pandas as pd\n",
    "lst = [10,20,30,40,50]\n",
    "ser = pd.Series(lst)\n",
    "print(ser)"
   ]
  },
  {
   "cell_type": "code",
   "execution_count": 2,
   "metadata": {
    "ExecuteTime": {
     "end_time": "2021-02-23T07:46:47.185497Z",
     "start_time": "2021-02-23T07:46:47.164092Z"
    }
   },
   "outputs": [
    {
     "name": "stdout",
     "output_type": "stream",
     "text": [
      "[10, 20, 30, 40, 50] <class 'list'>\n"
     ]
    }
   ],
   "source": [
    "# Write a Python program to convert a Panda module Series to\n",
    "# Python list and its type\n",
    "\n",
    "lst_ser = list(ser)\n",
    "print(lst_ser,type(lst_ser))"
   ]
  },
  {
   "cell_type": "code",
   "execution_count": 3,
   "metadata": {
    "ExecuteTime": {
     "end_time": "2021-02-23T07:46:47.350126Z",
     "start_time": "2021-02-23T07:46:47.191147Z"
    }
   },
   "outputs": [
    {
     "name": "stdout",
     "output_type": "stream",
     "text": [
      "Addition:\n",
      " 0    230\n",
      "1     53\n",
      "2     64\n",
      "3     63\n",
      "4    126\n",
      "dtype: int64\n",
      "\n",
      "Subtraction:\n",
      " 0   -210\n",
      "1    -13\n",
      "2     -4\n",
      "3     17\n",
      "4    -26\n",
      "dtype: int64\n",
      "\n",
      "Multiplication:\n",
      " 0    2200\n",
      "1     660\n",
      "2    1020\n",
      "3     920\n",
      "4    3800\n",
      "dtype: int64\n",
      "\n",
      "Division:\n",
      " 0    2200\n",
      "1     660\n",
      "2    1020\n",
      "3     920\n",
      "4    3800\n",
      "dtype: int64\n"
     ]
    }
   ],
   "source": [
    "# Write a Python program to add, subtract, multiple and divide\n",
    "# two Pandas Series.\n",
    "\n",
    "s1 = pd.Series( [10,20,30,40,50])\n",
    "s2 = pd.Series([220,33,34,23,76])\n",
    "\n",
    "print(\"Addition:\\n\",s1+s2)\n",
    "print()\n",
    "print(\"Subtraction:\\n\",s1-s2)\n",
    "print()\n",
    "print(\"Multiplication:\\n\",s1*s2)\n",
    "print()\n",
    "print(\"Division:\\n\",s1*s2)"
   ]
  },
  {
   "cell_type": "code",
   "execution_count": 8,
   "metadata": {
    "ExecuteTime": {
     "end_time": "2021-02-23T07:47:53.975150Z",
     "start_time": "2021-02-23T07:47:53.949875Z"
    }
   },
   "outputs": [
    {
     "name": "stdout",
     "output_type": "stream",
     "text": [
      "Equal elements:\n",
      "0    False\n",
      "1    False\n",
      "2    False\n",
      "3    False\n",
      "4    False\n",
      "dtype: bool\n",
      "\n",
      "Greater elements:\n",
      "0    False\n",
      "1    False\n",
      "2    False\n",
      "3     True\n",
      "4    False\n",
      "dtype: bool\n",
      "\n",
      "Less than elements:\n",
      "0     True\n",
      "1     True\n",
      "2     True\n",
      "3    False\n",
      "4     True\n",
      "dtype: bool\n"
     ]
    }
   ],
   "source": [
    "# Write a Python program to compare the elements of the two\n",
    "# Pandas Series.\n",
    "\n",
    "\n",
    "\n",
    "s1 = pd.Series( [10,20,30,40,50])\n",
    "s2 = pd.Series([220,33,34,23,76])\n",
    "\n",
    "print(\"Equal elements:\")\n",
    "print(s1==s2)\n",
    "print()\n",
    "print(\"Greater elements:\")\n",
    "print(s1>s2)\n",
    "print()\n",
    "print(\"Less than elements:\")\n",
    "print(s1<s2)"
   ]
  },
  {
   "cell_type": "code",
   "execution_count": 10,
   "metadata": {
    "ExecuteTime": {
     "end_time": "2021-02-23T07:51:42.124758Z",
     "start_time": "2021-02-23T07:51:42.069416Z"
    }
   },
   "outputs": [
    {
     "data": {
      "text/html": [
       "<div>\n",
       "<style scoped>\n",
       "    .dataframe tbody tr th:only-of-type {\n",
       "        vertical-align: middle;\n",
       "    }\n",
       "\n",
       "    .dataframe tbody tr th {\n",
       "        vertical-align: top;\n",
       "    }\n",
       "\n",
       "    .dataframe thead th {\n",
       "        text-align: right;\n",
       "    }\n",
       "</style>\n",
       "<table border=\"1\" class=\"dataframe\">\n",
       "  <thead>\n",
       "    <tr style=\"text-align: right;\">\n",
       "      <th></th>\n",
       "      <th>Col1</th>\n",
       "      <th>Col2</th>\n",
       "      <th>col3</th>\n",
       "    </tr>\n",
       "  </thead>\n",
       "  <tbody>\n",
       "    <tr>\n",
       "      <th>0</th>\n",
       "      <td>10</td>\n",
       "      <td>34</td>\n",
       "      <td>87</td>\n",
       "    </tr>\n",
       "    <tr>\n",
       "      <th>1</th>\n",
       "      <td>24</td>\n",
       "      <td>54</td>\n",
       "      <td>48</td>\n",
       "    </tr>\n",
       "    <tr>\n",
       "      <th>2</th>\n",
       "      <td>34</td>\n",
       "      <td>23</td>\n",
       "      <td>45</td>\n",
       "    </tr>\n",
       "    <tr>\n",
       "      <th>3</th>\n",
       "      <td>56</td>\n",
       "      <td>56</td>\n",
       "      <td>23</td>\n",
       "    </tr>\n",
       "    <tr>\n",
       "      <th>4</th>\n",
       "      <td>75</td>\n",
       "      <td>72</td>\n",
       "      <td>50</td>\n",
       "    </tr>\n",
       "  </tbody>\n",
       "</table>\n",
       "</div>"
      ],
      "text/plain": [
       "   Col1  Col2  col3\n",
       "0    10    34    87\n",
       "1    24    54    48\n",
       "2    34    23    45\n",
       "3    56    56    23\n",
       "4    75    72    50"
      ]
     },
     "execution_count": 10,
     "metadata": {},
     "output_type": "execute_result"
    }
   ],
   "source": [
    "# Write a Python program to display the following data column\n",
    "# wise.\n",
    "\n",
    "\n",
    "dictonary = {\"Col1\":[10,24,34,56,75],\n",
    "            \"Col2\":[34,54,23,56,72],\n",
    "            \"col3\":[87,48,45,23,50]}\n",
    "data = pd.DataFrame(dictonary)\n",
    "data"
   ]
  },
  {
   "cell_type": "code",
   "execution_count": 12,
   "metadata": {
    "ExecuteTime": {
     "end_time": "2021-02-23T07:53:51.415348Z",
     "start_time": "2021-02-23T07:53:51.392568Z"
    }
   },
   "outputs": [
    {
     "data": {
      "text/html": [
       "<div>\n",
       "<style scoped>\n",
       "    .dataframe tbody tr th:only-of-type {\n",
       "        vertical-align: middle;\n",
       "    }\n",
       "\n",
       "    .dataframe tbody tr th {\n",
       "        vertical-align: top;\n",
       "    }\n",
       "\n",
       "    .dataframe thead th {\n",
       "        text-align: right;\n",
       "    }\n",
       "</style>\n",
       "<table border=\"1\" class=\"dataframe\">\n",
       "  <thead>\n",
       "    <tr style=\"text-align: right;\">\n",
       "      <th></th>\n",
       "      <th>Col1</th>\n",
       "      <th>Col2</th>\n",
       "      <th>col3</th>\n",
       "    </tr>\n",
       "  </thead>\n",
       "  <tbody>\n",
       "    <tr>\n",
       "      <th>a</th>\n",
       "      <td>10</td>\n",
       "      <td>34</td>\n",
       "      <td>87</td>\n",
       "    </tr>\n",
       "    <tr>\n",
       "      <th>b</th>\n",
       "      <td>24</td>\n",
       "      <td>54</td>\n",
       "      <td>48</td>\n",
       "    </tr>\n",
       "    <tr>\n",
       "      <th>c</th>\n",
       "      <td>34</td>\n",
       "      <td>23</td>\n",
       "      <td>45</td>\n",
       "    </tr>\n",
       "    <tr>\n",
       "      <th>d</th>\n",
       "      <td>56</td>\n",
       "      <td>56</td>\n",
       "      <td>23</td>\n",
       "    </tr>\n",
       "    <tr>\n",
       "      <th>e</th>\n",
       "      <td>75</td>\n",
       "      <td>72</td>\n",
       "      <td>50</td>\n",
       "    </tr>\n",
       "  </tbody>\n",
       "</table>\n",
       "</div>"
      ],
      "text/plain": [
       "   Col1  Col2  col3\n",
       "a    10    34    87\n",
       "b    24    54    48\n",
       "c    34    23    45\n",
       "d    56    56    23\n",
       "e    75    72    50"
      ]
     },
     "execution_count": 12,
     "metadata": {},
     "output_type": "execute_result"
    }
   ],
   "source": [
    "# Write a Python program to create and display a Data Frame\n",
    "# from a specified dictionary data which has the index labels.\n",
    "\n",
    "dictonary = {\"Col1\":[10,24,34,56,75],\n",
    "            \"Col2\":[34,54,23,56,72],\n",
    "            \"col3\":[87,48,45,23,50]}\n",
    "index = ['a','b','c','d','e']\n",
    "\n",
    "data = pd.DataFrame(dictonary,index = index)\n",
    "data"
   ]
  },
  {
   "cell_type": "code",
   "execution_count": 21,
   "metadata": {
    "ExecuteTime": {
     "end_time": "2021-02-23T08:03:08.805906Z",
     "start_time": "2021-02-23T08:03:08.784700Z"
    }
   },
   "outputs": [
    {
     "data": {
      "text/html": [
       "<div>\n",
       "<style scoped>\n",
       "    .dataframe tbody tr th:only-of-type {\n",
       "        vertical-align: middle;\n",
       "    }\n",
       "\n",
       "    .dataframe tbody tr th {\n",
       "        vertical-align: top;\n",
       "    }\n",
       "\n",
       "    .dataframe thead th {\n",
       "        text-align: right;\n",
       "    }\n",
       "</style>\n",
       "<table border=\"1\" class=\"dataframe\">\n",
       "  <thead>\n",
       "    <tr style=\"text-align: right;\">\n",
       "      <th></th>\n",
       "      <th>Col2</th>\n",
       "      <th>col3</th>\n",
       "    </tr>\n",
       "  </thead>\n",
       "  <tbody>\n",
       "    <tr>\n",
       "      <th>b</th>\n",
       "      <td>54</td>\n",
       "      <td>48</td>\n",
       "    </tr>\n",
       "    <tr>\n",
       "      <th>c</th>\n",
       "      <td>23</td>\n",
       "      <td>45</td>\n",
       "    </tr>\n",
       "    <tr>\n",
       "      <th>d</th>\n",
       "      <td>56</td>\n",
       "      <td>23</td>\n",
       "    </tr>\n",
       "  </tbody>\n",
       "</table>\n",
       "</div>"
      ],
      "text/plain": [
       "   Col2  col3\n",
       "b    54    48\n",
       "c    23    45\n",
       "d    56    23"
      ]
     },
     "execution_count": 21,
     "metadata": {},
     "output_type": "execute_result"
    }
   ],
   "source": [
    "# Write a Python program to select the specified columns and\n",
    "# rows from a given Data Frame.\n",
    "data.iloc[[1,2,3],[1,2]]"
   ]
  },
  {
   "cell_type": "code",
   "execution_count": 24,
   "metadata": {
    "ExecuteTime": {
     "end_time": "2021-02-23T08:03:57.871022Z",
     "start_time": "2021-02-23T08:03:57.856552Z"
    }
   },
   "outputs": [
    {
     "data": {
      "text/html": [
       "<div>\n",
       "<style scoped>\n",
       "    .dataframe tbody tr th:only-of-type {\n",
       "        vertical-align: middle;\n",
       "    }\n",
       "\n",
       "    .dataframe tbody tr th {\n",
       "        vertical-align: top;\n",
       "    }\n",
       "\n",
       "    .dataframe thead th {\n",
       "        text-align: right;\n",
       "    }\n",
       "</style>\n",
       "<table border=\"1\" class=\"dataframe\">\n",
       "  <thead>\n",
       "    <tr style=\"text-align: right;\">\n",
       "      <th></th>\n",
       "      <th>Col1</th>\n",
       "    </tr>\n",
       "  </thead>\n",
       "  <tbody>\n",
       "    <tr>\n",
       "      <th>a</th>\n",
       "      <td>10</td>\n",
       "    </tr>\n",
       "    <tr>\n",
       "      <th>c</th>\n",
       "      <td>34</td>\n",
       "    </tr>\n",
       "  </tbody>\n",
       "</table>\n",
       "</div>"
      ],
      "text/plain": [
       "   Col1\n",
       "a    10\n",
       "c    34"
      ]
     },
     "execution_count": 24,
     "metadata": {},
     "output_type": "execute_result"
    }
   ],
   "source": [
    "data.loc[['a','c'],['Col1']]"
   ]
  },
  {
   "cell_type": "code",
   "execution_count": 42,
   "metadata": {
    "ExecuteTime": {
     "end_time": "2021-02-23T08:12:37.129847Z",
     "start_time": "2021-02-23T08:12:37.107480Z"
    }
   },
   "outputs": [
    {
     "data": {
      "text/html": [
       "<div>\n",
       "<style scoped>\n",
       "    .dataframe tbody tr th:only-of-type {\n",
       "        vertical-align: middle;\n",
       "    }\n",
       "\n",
       "    .dataframe tbody tr th {\n",
       "        vertical-align: top;\n",
       "    }\n",
       "\n",
       "    .dataframe thead th {\n",
       "        text-align: right;\n",
       "    }\n",
       "</style>\n",
       "<table border=\"1\" class=\"dataframe\">\n",
       "  <thead>\n",
       "    <tr style=\"text-align: right;\">\n",
       "      <th></th>\n",
       "      <th>Name</th>\n",
       "      <th>RollNo</th>\n",
       "      <th>Score</th>\n",
       "    </tr>\n",
       "  </thead>\n",
       "  <tbody>\n",
       "    <tr>\n",
       "      <th>1</th>\n",
       "      <td>Ritesh</td>\n",
       "      <td>54</td>\n",
       "      <td>17</td>\n",
       "    </tr>\n",
       "    <tr>\n",
       "      <th>2</th>\n",
       "      <td>Ashish</td>\n",
       "      <td>23</td>\n",
       "      <td>19</td>\n",
       "    </tr>\n",
       "  </tbody>\n",
       "</table>\n",
       "</div>"
      ],
      "text/plain": [
       "     Name  RollNo  Score\n",
       "1  Ritesh      54     17\n",
       "2  Ashish      23     19"
      ]
     },
     "execution_count": 42,
     "metadata": {},
     "output_type": "execute_result"
    }
   ],
   "source": [
    "# Write a Python program to select the rows the score is between\n",
    "# 15 and 20 (inclusive).\n",
    "\n",
    "dic = {\"Name\":[\"Monika\",\"Ritesh\",\"Ashish\",\"Suraj\",\"Amit\",\"Sunena\"],\n",
    "       \"RollNo\":[34,54,23,56,30,43],\n",
    "       \"Score\":[10,17,19,23,34,21]}\n",
    "\n",
    "df = pd.DataFrame(dic)\n",
    "df[(df.Score >=15) & (df.Score <=20)]"
   ]
  },
  {
   "cell_type": "code",
   "execution_count": 43,
   "metadata": {
    "ExecuteTime": {
     "end_time": "2021-02-23T09:26:12.875412Z",
     "start_time": "2021-02-23T09:26:12.786716Z"
    }
   },
   "outputs": [
    {
     "data": {
      "text/html": [
       "<div>\n",
       "<style scoped>\n",
       "    .dataframe tbody tr th:only-of-type {\n",
       "        vertical-align: middle;\n",
       "    }\n",
       "\n",
       "    .dataframe tbody tr th {\n",
       "        vertical-align: top;\n",
       "    }\n",
       "\n",
       "    .dataframe thead th {\n",
       "        text-align: right;\n",
       "    }\n",
       "</style>\n",
       "<table border=\"1\" class=\"dataframe\">\n",
       "  <thead>\n",
       "    <tr style=\"text-align: right;\">\n",
       "      <th></th>\n",
       "      <th>Name</th>\n",
       "      <th>Attempts</th>\n",
       "      <th>Score</th>\n",
       "    </tr>\n",
       "  </thead>\n",
       "  <tbody>\n",
       "    <tr>\n",
       "      <th>1</th>\n",
       "      <td>Ritesh</td>\n",
       "      <td>1</td>\n",
       "      <td>17</td>\n",
       "    </tr>\n",
       "    <tr>\n",
       "      <th>3</th>\n",
       "      <td>Suraj</td>\n",
       "      <td>1</td>\n",
       "      <td>23</td>\n",
       "    </tr>\n",
       "    <tr>\n",
       "      <th>4</th>\n",
       "      <td>Amit</td>\n",
       "      <td>1</td>\n",
       "      <td>34</td>\n",
       "    </tr>\n",
       "  </tbody>\n",
       "</table>\n",
       "</div>"
      ],
      "text/plain": [
       "     Name  Attempts  Score\n",
       "1  Ritesh         1     17\n",
       "3   Suraj         1     23\n",
       "4    Amit         1     34"
      ]
     },
     "execution_count": 43,
     "metadata": {},
     "output_type": "execute_result"
    }
   ],
   "source": [
    "# Write a Python program to select the rows where number of\n",
    "# attempts in the examination is less than 2 and score greater than\n",
    "# 15.\n",
    "\n",
    "\n",
    "dataframe = {\"Name\":[\"Monika\",\"Ritesh\",\"Ashish\",\"Suraj\",\"Amit\",\"Sunena\"],\n",
    "           \"Attempts\":[3,1,2,1,1,3],\n",
    "           \"Score\":[10,17,19,23,34,21]}\n",
    "\n",
    "\n",
    "df = pd.DataFrame(dataframe)\n",
    "df[(df.Attempts<2) & (df.Score>15)]"
   ]
  },
  {
   "cell_type": "code",
   "execution_count": 60,
   "metadata": {
    "ExecuteTime": {
     "end_time": "2021-02-23T09:43:45.421320Z",
     "start_time": "2021-02-23T09:43:45.377042Z"
    }
   },
   "outputs": [
    {
     "name": "stdout",
     "output_type": "stream",
     "text": [
      "Before adding the new row:\n",
      "    name  physics  chemistry  algebra\n",
      "a  Somu       68         84       78\n",
      "d  Kiku       74         56       88\n",
      "f  Amol       77         73       82\n",
      "m  Lini       78         69       87\n",
      "\n",
      "After adding the new row:\n",
      "      name  physics  chemistry  algebra\n",
      "a    Somu       68         84       78\n",
      "d    Kiku       74         56       88\n",
      "f    Amol       77         73       82\n",
      "m    Lini       78         69       87\n",
      "k  Smriti       26         92       97\n",
      "\n",
      "Delete the row:\n",
      "    name  physics  chemistry  algebra\n",
      "a  Somu       68         84       78\n",
      "d  Kiku       74         56       88\n",
      "f  Amol       77         73       82\n",
      "m  Lini       78         69       87\n"
     ]
    }
   ],
   "source": [
    "# Write a Python program to append a new row 'k' to Data Frame\n",
    "# with given values for each column. Now delete the new row and\n",
    "# return the original data frame.\n",
    "\n",
    "data = {'name': ['Somu', 'Kiku', 'Amol', 'Lini'],\n",
    "    'physics': [68, 74, 77, 78],\n",
    "    'chemistry': [84, 56, 73, 69],\n",
    "    'algebra': [78, 88, 82, 87]}\n",
    "index = ['a','d','f','m']\n",
    "\n",
    "df = pd.DataFrame(data,index = index)\n",
    "print(\"Before adding the new row:\\n\",df)\n",
    "\n",
    "# adding 'k' row:\n",
    "df.loc['k'] = ['Smriti', 26, 92, 97]\n",
    "print()\n",
    "print(\"After adding the new row:\\n\",df)\n",
    "print()\n",
    "\n",
    "# delete the row and back to original;\n",
    "print(\"Delete the row:\\n\",df.drop('k',axis =0))"
   ]
  },
  {
   "cell_type": "code",
   "execution_count": 70,
   "metadata": {
    "ExecuteTime": {
     "end_time": "2021-02-23T09:50:35.312611Z",
     "start_time": "2021-02-23T09:50:35.278568Z"
    }
   },
   "outputs": [
    {
     "name": "stdout",
     "output_type": "stream",
     "text": [
      "     Name  Attempts  Score\n",
      "3   Suraj         1     23\n",
      "5  Sunena         3     21\n",
      "1  Ritesh         1     17\n",
      "0  Monika         3     10\n",
      "2  Ashish         2     19\n",
      "4    Amit         1     34\n",
      "\n",
      "     Name  Attempts  Score\n",
      "0  Monika         3     10\n",
      "1  Ritesh         1     17\n",
      "2  Ashish         2     19\n",
      "5  Sunena         3     21\n",
      "3   Suraj         1     23\n",
      "4    Amit         1     34\n"
     ]
    }
   ],
   "source": [
    "# Write a Python program to sort the data frame first by 'name' in\n",
    "# descending order, then by 'score' in ascending order.\n",
    "\n",
    "dataframe = {\"Name\":[\"Monika\",\"Ritesh\",\"Ashish\",\"Suraj\",\"Amit\",\"Sunena\"],\n",
    "           \"Attempts\":[3,1,2,1,1,3],\n",
    "           \"Score\":[10,17,19,23,34,21]}\n",
    "\n",
    "df =pd.DataFrame(dataframe)\n",
    "\n",
    "#first by 'name' in descending order:\n",
    "print(df.sort_values(by=['Name'], ascending=[False]))\n",
    "print()\n",
    "\n",
    "# then by 'score' in ascending order.:\n",
    "print(df.sort_values(by=['Score'], ascending=[True]))\n"
   ]
  },
  {
   "cell_type": "code",
   "execution_count": 73,
   "metadata": {
    "ExecuteTime": {
     "end_time": "2021-02-23T09:53:12.557007Z",
     "start_time": "2021-02-23T09:53:12.518832Z"
    }
   },
   "outputs": [
    {
     "data": {
      "text/html": [
       "<div>\n",
       "<style scoped>\n",
       "    .dataframe tbody tr th:only-of-type {\n",
       "        vertical-align: middle;\n",
       "    }\n",
       "\n",
       "    .dataframe tbody tr th {\n",
       "        vertical-align: top;\n",
       "    }\n",
       "\n",
       "    .dataframe thead th {\n",
       "        text-align: right;\n",
       "    }\n",
       "</style>\n",
       "<table border=\"1\" class=\"dataframe\">\n",
       "  <thead>\n",
       "    <tr style=\"text-align: right;\">\n",
       "      <th></th>\n",
       "      <th>Name</th>\n",
       "      <th>Attempts</th>\n",
       "      <th>Score</th>\n",
       "      <th>New_col</th>\n",
       "    </tr>\n",
       "  </thead>\n",
       "  <tbody>\n",
       "    <tr>\n",
       "      <th>0</th>\n",
       "      <td>Monika</td>\n",
       "      <td>3</td>\n",
       "      <td>10</td>\n",
       "      <td>a</td>\n",
       "    </tr>\n",
       "    <tr>\n",
       "      <th>1</th>\n",
       "      <td>Ritesh</td>\n",
       "      <td>1</td>\n",
       "      <td>17</td>\n",
       "      <td>b</td>\n",
       "    </tr>\n",
       "    <tr>\n",
       "      <th>2</th>\n",
       "      <td>Ashish</td>\n",
       "      <td>2</td>\n",
       "      <td>19</td>\n",
       "      <td>c</td>\n",
       "    </tr>\n",
       "    <tr>\n",
       "      <th>3</th>\n",
       "      <td>Suraj</td>\n",
       "      <td>1</td>\n",
       "      <td>23</td>\n",
       "      <td>d</td>\n",
       "    </tr>\n",
       "    <tr>\n",
       "      <th>4</th>\n",
       "      <td>Amit</td>\n",
       "      <td>1</td>\n",
       "      <td>34</td>\n",
       "      <td>e</td>\n",
       "    </tr>\n",
       "    <tr>\n",
       "      <th>5</th>\n",
       "      <td>Sunena</td>\n",
       "      <td>3</td>\n",
       "      <td>21</td>\n",
       "      <td>f</td>\n",
       "    </tr>\n",
       "  </tbody>\n",
       "</table>\n",
       "</div>"
      ],
      "text/plain": [
       "     Name  Attempts  Score New_col\n",
       "0  Monika         3     10       a\n",
       "1  Ritesh         1     17       b\n",
       "2  Ashish         2     19       c\n",
       "3   Suraj         1     23       d\n",
       "4    Amit         1     34       e\n",
       "5  Sunena         3     21       f"
      ]
     },
     "execution_count": 73,
     "metadata": {},
     "output_type": "execute_result"
    }
   ],
   "source": [
    "# Write a Python program to insert a new column in existing Data\n",
    "# Frame.\n",
    "\n",
    "dataframe = {\"Name\":[\"Monika\",\"Ritesh\",\"Ashish\",\"Suraj\",\"Amit\",\"Sunena\"],\n",
    "           \"Attempts\":[3,1,2,1,1,3],\n",
    "           \"Score\":[10,17,19,23,34,21]}\n",
    "\n",
    "df = pd.DataFrame(dataframe)\n",
    "\n",
    "# after adding new adding new column:\n",
    "df[\"New_col\"] = [\"a\",\"b\",\"c\",\"d\",\"e\",\"f\"]\n",
    "df"
   ]
  },
  {
   "cell_type": "code",
   "execution_count": 85,
   "metadata": {
    "ExecuteTime": {
     "end_time": "2021-02-23T09:57:37.090461Z",
     "start_time": "2021-02-23T09:57:37.052873Z"
    }
   },
   "outputs": [
    {
     "name": "stdout",
     "output_type": "stream",
     "text": [
      "Before the change:\n",
      "         name  score  attempts qualify\n",
      "a  Anastasia   12.5         1     yes\n",
      "b       Dima    9.0         3      no\n",
      "c  Katherine   16.5         2     yes\n",
      "d      James    NaN         3      no\n",
      "e      Emily    9.0         2      no\n",
      "\n",
      "After the change:\n",
      "         name  score  attempts qualify\n",
      "a  Anastasia   12.5         1     yes\n",
      "b       Dima    9.0         3      no\n",
      "c  Katherine   16.5         2     yes\n",
      "d     Suresh    NaN         3      no\n",
      "e      Emily    9.0         2      no\n"
     ]
    }
   ],
   "source": [
    "# Write a Python program to change the name 'James' to 'Suresh'\n",
    "# in name column of the data frame.\n",
    "import numpy as np\n",
    "exam_data = {'name': ['Anastasia', 'Dima', 'Katherine', 'James',\n",
    "    'Emily', 'Michael', 'Matthew', 'Laura', 'Kevin', 'Jonas'],\n",
    "    'score': [12.5, 9, 16.5, np.nan, 9, 20, 14.5, np.nan, 8, 19],\n",
    "    'attempts': [1, 3, 2, 3, 2, 3, 1, 1, 2, 1],\n",
    "    'qualify': ['yes', 'no', 'yes', 'no', 'no', 'yes', 'yes', 'no', 'no',\n",
    "    'yes']}\n",
    "labels = ['a', 'b', 'c', 'd', 'e', 'f', 'g', 'h', 'i', 'j']\n",
    "\n",
    "data = pd.DataFrame(exam_data,index = labels)\n",
    "\n",
    "print(\"Before the change:\\n\", data.head())\n",
    "\n",
    "# after changing the name:\n",
    "print()\n",
    "data.loc['d','name'] = 'Suresh'\n",
    "print(\"After the change:\\n\", data.head())"
   ]
  },
  {
   "cell_type": "code",
   "execution_count": null,
   "metadata": {},
   "outputs": [],
   "source": []
  },
  {
   "cell_type": "code",
   "execution_count": null,
   "metadata": {},
   "outputs": [],
   "source": []
  },
  {
   "cell_type": "code",
   "execution_count": null,
   "metadata": {},
   "outputs": [],
   "source": []
  },
  {
   "cell_type": "code",
   "execution_count": null,
   "metadata": {},
   "outputs": [],
   "source": []
  },
  {
   "cell_type": "code",
   "execution_count": null,
   "metadata": {},
   "outputs": [],
   "source": []
  },
  {
   "cell_type": "code",
   "execution_count": null,
   "metadata": {},
   "outputs": [],
   "source": []
  },
  {
   "cell_type": "code",
   "execution_count": null,
   "metadata": {},
   "outputs": [],
   "source": []
  },
  {
   "cell_type": "code",
   "execution_count": null,
   "metadata": {},
   "outputs": [],
   "source": []
  },
  {
   "cell_type": "code",
   "execution_count": null,
   "metadata": {},
   "outputs": [],
   "source": []
  }
 ],
 "metadata": {
  "kernelspec": {
   "display_name": "Python 3",
   "language": "python",
   "name": "python3"
  },
  "language_info": {
   "codemirror_mode": {
    "name": "ipython",
    "version": 3
   },
   "file_extension": ".py",
   "mimetype": "text/x-python",
   "name": "python",
   "nbconvert_exporter": "python",
   "pygments_lexer": "ipython3",
   "version": "3.7.6"
  }
 },
 "nbformat": 4,
 "nbformat_minor": 4
}
